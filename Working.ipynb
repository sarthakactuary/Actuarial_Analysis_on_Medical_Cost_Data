{
 "cells": [
  {
   "cell_type": "code",
   "execution_count": 1,
   "id": "d71ba2ad",
   "metadata": {},
   "outputs": [],
   "source": [
    "import pandas as pd\n",
    "import numpy as np\n",
    "import seaborn as sns\n",
    "import matplotlib.pyplot as plt"
   ]
  },
  {
   "cell_type": "code",
   "execution_count": 10,
   "id": "11a11d37",
   "metadata": {},
   "outputs": [
    {
     "name": "stdout",
     "output_type": "stream",
     "text": [
      "   age     sex     bmi  children smoker     region      charges\n",
      "0   19  female  27.900         0    yes  southwest  16884.92400\n",
      "1   18    male  33.770         1     no  southeast   1725.55230\n",
      "2   28    male  33.000         3     no  southeast   4449.46200\n",
      "3   33    male  22.705         0     no  northwest  21984.47061\n",
      "4   32    male  28.880         0     no  northwest   3866.85520\n"
     ]
    }
   ],
   "source": [
    "# Load the dataset and save into \"df\" variable\n",
    "df = pd.read_csv(\"data.csv\",)\n",
    "# print first 5 rows\n",
    "print(df.head())\n"
   ]
  },
  {
   "cell_type": "code",
   "execution_count": 8,
   "id": "5bd87722",
   "metadata": {},
   "outputs": [
    {
     "name": "stdout",
     "output_type": "stream",
     "text": [
      "<class 'pandas.core.frame.DataFrame'>\n",
      "RangeIndex: 1338 entries, 0 to 1337\n",
      "Data columns (total 7 columns):\n",
      " #   Column    Non-Null Count  Dtype  \n",
      "---  ------    --------------  -----  \n",
      " 0   age       1338 non-null   int64  \n",
      " 1   sex       1338 non-null   object \n",
      " 2   bmi       1338 non-null   float64\n",
      " 3   children  1338 non-null   int64  \n",
      " 4   smoker    1338 non-null   object \n",
      " 5   region    1338 non-null   object \n",
      " 6   charges   1338 non-null   float64\n",
      "dtypes: float64(2), int64(2), object(3)\n",
      "memory usage: 73.3+ KB\n"
     ]
    }
   ],
   "source": [
    "# checking the type of variables\n",
    "df.info()"
   ]
  },
  {
   "cell_type": "markdown",
   "id": "58d2e84c",
   "metadata": {},
   "source": [
    "Its tells us that there was no null values all variable contain all 1338 rows values"
   ]
  },
  {
   "cell_type": "code",
   "execution_count": 11,
   "id": "e24111ef",
   "metadata": {},
   "outputs": [
    {
     "name": "stdout",
     "output_type": "stream",
     "text": [
      "               age          bmi     children       charges\n",
      "count  1338.000000  1338.000000  1338.000000   1338.000000\n",
      "mean     39.207025    30.663397     1.094918  13270.422265\n",
      "std      14.049960     6.098187     1.205493  12110.011237\n",
      "min      18.000000    15.960000     0.000000   1121.873900\n",
      "25%      27.000000    26.296250     0.000000   4740.287150\n",
      "50%      39.000000    30.400000     1.000000   9382.033000\n",
      "75%      51.000000    34.693750     2.000000  16639.912515\n",
      "max      64.000000    53.130000     5.000000  63770.428010\n"
     ]
    }
   ],
   "source": [
    "# Basic Statistics for numeric features\n",
    "print(df.describe())"
   ]
  },
  {
   "cell_type": "markdown",
   "id": "63cd60be",
   "metadata": {},
   "source": [
    "Our target variable is charges which are right-skewed, becuase mean > median(50%) and also check which max values 75% values show 16639(rounded) and \n",
    "max values show 63770(rounded), some are very high charges"
   ]
  },
  {
   "cell_type": "code",
   "execution_count": 15,
   "id": "04153537",
   "metadata": {},
   "outputs": [
    {
     "name": "stdout",
     "output_type": "stream",
     "text": [
      "age         0\n",
      "sex         0\n",
      "bmi         0\n",
      "children    0\n",
      "smoker      0\n",
      "region      0\n",
      "charges     0\n",
      "dtype: int64\n"
     ]
    }
   ],
   "source": [
    "print(df.isna().sum())"
   ]
  },
  {
   "cell_type": "markdown",
   "id": "14b7a2e9",
   "metadata": {},
   "source": [
    "all through there are any missing value"
   ]
  },
  {
   "cell_type": "code",
   "execution_count": 25,
   "id": "f86da043",
   "metadata": {},
   "outputs": [
    {
     "name": "stdout",
     "output_type": "stream",
     "text": [
      "smoker\n",
      "no     1064\n",
      "yes     274\n",
      "Name: count, dtype: int64\n"
     ]
    }
   ],
   "source": [
    "print(df[\"smoker\"].value_counts())"
   ]
  },
  {
   "cell_type": "markdown",
   "id": "f338682c",
   "metadata": {},
   "source": [
    "show that in our data 20%(approx.) people are smokers"
   ]
  },
  {
   "cell_type": "code",
   "execution_count": 31,
   "id": "a3b7309f",
   "metadata": {},
   "outputs": [
    {
     "name": "stdout",
     "output_type": "stream",
     "text": [
      "              age        bmi  children       charges\n",
      "smoker                                              \n",
      "no      39.385338  30.651795  1.090226   8434.268298\n",
      "yes     38.514599  30.708449  1.113139  32050.231832\n"
     ]
    }
   ],
   "source": [
    "print(df.groupby(\"smoker\").mean(\"charges\"))"
   ]
  },
  {
   "cell_type": "markdown",
   "id": "f793b7e6",
   "metadata": {},
   "source": [
    "Now we can see that, people who's smoking pay more charges compare to non-smokers."
   ]
  }
 ],
 "metadata": {
  "kernelspec": {
   "display_name": "Python 3",
   "language": "python",
   "name": "python3"
  },
  "language_info": {
   "codemirror_mode": {
    "name": "ipython",
    "version": 3
   },
   "file_extension": ".py",
   "mimetype": "text/x-python",
   "name": "python",
   "nbconvert_exporter": "python",
   "pygments_lexer": "ipython3",
   "version": "3.13.5"
  }
 },
 "nbformat": 4,
 "nbformat_minor": 5
}
